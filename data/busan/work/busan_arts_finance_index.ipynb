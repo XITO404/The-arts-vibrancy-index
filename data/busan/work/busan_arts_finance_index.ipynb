{
  "nbformat": 4,
  "nbformat_minor": 0,
  "metadata": {
    "colab": {
      "provenance": []
    },
    "kernelspec": {
      "name": "python3",
      "display_name": "Python 3"
    },
    "language_info": {
      "name": "python"
    }
  },
  "cells": [
    {
      "cell_type": "code",
      "source": [
        "!sudo apt-get install -y fonts-nanum\n",
        "!sudo fc-cache -fv\n",
        "!rm ~/.cache/matplotlib -rf"
      ],
      "metadata": {
        "id": "kDeESUAvPCIO",
        "colab": {
          "base_uri": "https://localhost:8080/"
        },
        "outputId": "382aa90c-c032-4b2c-e95b-9745f3c1b6ba"
      },
      "execution_count": 1,
      "outputs": [
        {
          "output_type": "stream",
          "name": "stdout",
          "text": [
            "Reading package lists... Done\n",
            "Building dependency tree       \n",
            "Reading state information... Done\n",
            "fonts-nanum is already the newest version (20180306-3).\n",
            "0 upgraded, 0 newly installed, 0 to remove and 15 not upgraded.\n",
            "/usr/share/fonts: caching, new cache contents: 0 fonts, 1 dirs\n",
            "/usr/share/fonts/truetype: caching, new cache contents: 0 fonts, 3 dirs\n",
            "/usr/share/fonts/truetype/humor-sans: caching, new cache contents: 1 fonts, 0 dirs\n",
            "/usr/share/fonts/truetype/liberation: caching, new cache contents: 16 fonts, 0 dirs\n",
            "/usr/share/fonts/truetype/nanum: caching, new cache contents: 10 fonts, 0 dirs\n",
            "/usr/local/share/fonts: caching, new cache contents: 0 fonts, 0 dirs\n",
            "/root/.local/share/fonts: skipping, no such directory\n",
            "/root/.fonts: skipping, no such directory\n",
            "/usr/share/fonts/truetype: skipping, looped directory detected\n",
            "/usr/share/fonts/truetype/humor-sans: skipping, looped directory detected\n",
            "/usr/share/fonts/truetype/liberation: skipping, looped directory detected\n",
            "/usr/share/fonts/truetype/nanum: skipping, looped directory detected\n",
            "/var/cache/fontconfig: cleaning cache directory\n",
            "/root/.cache/fontconfig: not cleaning non-existent cache directory\n",
            "/root/.fontconfig: not cleaning non-existent cache directory\n",
            "fc-cache: succeeded\n"
          ]
        }
      ]
    },
    {
      "cell_type": "code",
      "execution_count": 2,
      "metadata": {
        "colab": {
          "base_uri": "https://localhost:8080/",
          "height": 551
        },
        "id": "uX0rdDXbRE1k",
        "outputId": "35d00c3f-f3d0-4ce4-b7a3-d3087bcc49e4"
      },
      "outputs": [
        {
          "output_type": "execute_result",
          "data": {
            "text/plain": [
              "       구\n",
              "0    강서구\n",
              "1    금정구\n",
              "2    기장구\n",
              "3     남구\n",
              "4     동구\n",
              "5    동래구\n",
              "6   부산진구\n",
              "7     북구\n",
              "8    사상구\n",
              "9    사하구\n",
              "10    서구\n",
              "11   수영구\n",
              "12   연제구\n",
              "13   영도구\n",
              "14    중구\n",
              "15  해운대구"
            ],
            "text/html": [
              "\n",
              "  <div id=\"df-11f5c0fa-34ff-444e-9ff4-547ef8c0cf08\">\n",
              "    <div class=\"colab-df-container\">\n",
              "      <div>\n",
              "<style scoped>\n",
              "    .dataframe tbody tr th:only-of-type {\n",
              "        vertical-align: middle;\n",
              "    }\n",
              "\n",
              "    .dataframe tbody tr th {\n",
              "        vertical-align: top;\n",
              "    }\n",
              "\n",
              "    .dataframe thead th {\n",
              "        text-align: right;\n",
              "    }\n",
              "</style>\n",
              "<table border=\"1\" class=\"dataframe\">\n",
              "  <thead>\n",
              "    <tr style=\"text-align: right;\">\n",
              "      <th></th>\n",
              "      <th>구</th>\n",
              "    </tr>\n",
              "  </thead>\n",
              "  <tbody>\n",
              "    <tr>\n",
              "      <th>0</th>\n",
              "      <td>강서구</td>\n",
              "    </tr>\n",
              "    <tr>\n",
              "      <th>1</th>\n",
              "      <td>금정구</td>\n",
              "    </tr>\n",
              "    <tr>\n",
              "      <th>2</th>\n",
              "      <td>기장구</td>\n",
              "    </tr>\n",
              "    <tr>\n",
              "      <th>3</th>\n",
              "      <td>남구</td>\n",
              "    </tr>\n",
              "    <tr>\n",
              "      <th>4</th>\n",
              "      <td>동구</td>\n",
              "    </tr>\n",
              "    <tr>\n",
              "      <th>5</th>\n",
              "      <td>동래구</td>\n",
              "    </tr>\n",
              "    <tr>\n",
              "      <th>6</th>\n",
              "      <td>부산진구</td>\n",
              "    </tr>\n",
              "    <tr>\n",
              "      <th>7</th>\n",
              "      <td>북구</td>\n",
              "    </tr>\n",
              "    <tr>\n",
              "      <th>8</th>\n",
              "      <td>사상구</td>\n",
              "    </tr>\n",
              "    <tr>\n",
              "      <th>9</th>\n",
              "      <td>사하구</td>\n",
              "    </tr>\n",
              "    <tr>\n",
              "      <th>10</th>\n",
              "      <td>서구</td>\n",
              "    </tr>\n",
              "    <tr>\n",
              "      <th>11</th>\n",
              "      <td>수영구</td>\n",
              "    </tr>\n",
              "    <tr>\n",
              "      <th>12</th>\n",
              "      <td>연제구</td>\n",
              "    </tr>\n",
              "    <tr>\n",
              "      <th>13</th>\n",
              "      <td>영도구</td>\n",
              "    </tr>\n",
              "    <tr>\n",
              "      <th>14</th>\n",
              "      <td>중구</td>\n",
              "    </tr>\n",
              "    <tr>\n",
              "      <th>15</th>\n",
              "      <td>해운대구</td>\n",
              "    </tr>\n",
              "  </tbody>\n",
              "</table>\n",
              "</div>\n",
              "      <button class=\"colab-df-convert\" onclick=\"convertToInteractive('df-11f5c0fa-34ff-444e-9ff4-547ef8c0cf08')\"\n",
              "              title=\"Convert this dataframe to an interactive table.\"\n",
              "              style=\"display:none;\">\n",
              "        \n",
              "  <svg xmlns=\"http://www.w3.org/2000/svg\" height=\"24px\"viewBox=\"0 0 24 24\"\n",
              "       width=\"24px\">\n",
              "    <path d=\"M0 0h24v24H0V0z\" fill=\"none\"/>\n",
              "    <path d=\"M18.56 5.44l.94 2.06.94-2.06 2.06-.94-2.06-.94-.94-2.06-.94 2.06-2.06.94zm-11 1L8.5 8.5l.94-2.06 2.06-.94-2.06-.94L8.5 2.5l-.94 2.06-2.06.94zm10 10l.94 2.06.94-2.06 2.06-.94-2.06-.94-.94-2.06-.94 2.06-2.06.94z\"/><path d=\"M17.41 7.96l-1.37-1.37c-.4-.4-.92-.59-1.43-.59-.52 0-1.04.2-1.43.59L10.3 9.45l-7.72 7.72c-.78.78-.78 2.05 0 2.83L4 21.41c.39.39.9.59 1.41.59.51 0 1.02-.2 1.41-.59l7.78-7.78 2.81-2.81c.8-.78.8-2.07 0-2.86zM5.41 20L4 18.59l7.72-7.72 1.47 1.35L5.41 20z\"/>\n",
              "  </svg>\n",
              "      </button>\n",
              "      \n",
              "  <style>\n",
              "    .colab-df-container {\n",
              "      display:flex;\n",
              "      flex-wrap:wrap;\n",
              "      gap: 12px;\n",
              "    }\n",
              "\n",
              "    .colab-df-convert {\n",
              "      background-color: #E8F0FE;\n",
              "      border: none;\n",
              "      border-radius: 50%;\n",
              "      cursor: pointer;\n",
              "      display: none;\n",
              "      fill: #1967D2;\n",
              "      height: 32px;\n",
              "      padding: 0 0 0 0;\n",
              "      width: 32px;\n",
              "    }\n",
              "\n",
              "    .colab-df-convert:hover {\n",
              "      background-color: #E2EBFA;\n",
              "      box-shadow: 0px 1px 2px rgba(60, 64, 67, 0.3), 0px 1px 3px 1px rgba(60, 64, 67, 0.15);\n",
              "      fill: #174EA6;\n",
              "    }\n",
              "\n",
              "    [theme=dark] .colab-df-convert {\n",
              "      background-color: #3B4455;\n",
              "      fill: #D2E3FC;\n",
              "    }\n",
              "\n",
              "    [theme=dark] .colab-df-convert:hover {\n",
              "      background-color: #434B5C;\n",
              "      box-shadow: 0px 1px 3px 1px rgba(0, 0, 0, 0.15);\n",
              "      filter: drop-shadow(0px 1px 2px rgba(0, 0, 0, 0.3));\n",
              "      fill: #FFFFFF;\n",
              "    }\n",
              "  </style>\n",
              "\n",
              "      <script>\n",
              "        const buttonEl =\n",
              "          document.querySelector('#df-11f5c0fa-34ff-444e-9ff4-547ef8c0cf08 button.colab-df-convert');\n",
              "        buttonEl.style.display =\n",
              "          google.colab.kernel.accessAllowed ? 'block' : 'none';\n",
              "\n",
              "        async function convertToInteractive(key) {\n",
              "          const element = document.querySelector('#df-11f5c0fa-34ff-444e-9ff4-547ef8c0cf08');\n",
              "          const dataTable =\n",
              "            await google.colab.kernel.invokeFunction('convertToInteractive',\n",
              "                                                     [key], {});\n",
              "          if (!dataTable) return;\n",
              "\n",
              "          const docLinkHtml = 'Like what you see? Visit the ' +\n",
              "            '<a target=\"_blank\" href=https://colab.research.google.com/notebooks/data_table.ipynb>data table notebook</a>'\n",
              "            + ' to learn more about interactive tables.';\n",
              "          element.innerHTML = '';\n",
              "          dataTable['output_type'] = 'display_data';\n",
              "          await google.colab.output.renderOutput(dataTable, element);\n",
              "          const docLink = document.createElement('div');\n",
              "          docLink.innerHTML = docLinkHtml;\n",
              "          element.appendChild(docLink);\n",
              "        }\n",
              "      </script>\n",
              "    </div>\n",
              "  </div>\n",
              "  "
            ]
          },
          "metadata": {},
          "execution_count": 2
        }
      ],
      "source": [
        "import pandas as pd\n",
        "import matplotlib.pyplot as plt\n",
        "\n",
        "# 부산시 구별 데이터\n",
        "cal = pd.read_csv('/content/busan_arts_finance_calculate.csv')\n",
        "df = pd.DataFrame(cal)\n",
        "districts = df.iloc[:, 0]\n",
        "\n",
        "index = pd.DataFrame(districts)\n",
        "index"
      ]
    },
    {
      "cell_type": "code",
      "source": [
        "# 계산\n",
        "index['cul_budget']=(df['cul_budget']/df['avg_cul_budget'])*100\n",
        "index['cul_budget']=index['cul_budget'].round(2)\n",
        "\n",
        "index['cna_budget']=(df['cna_budget']/df['avg_cna_budget'])*100\n",
        "index['cna_budget']=index['cna_budget'].round(2)\n",
        "\n",
        "index['cul_government']=(df['cul_government']/df['avg_cul_government'])*100\n",
        "index['cul_government']=index['cul_government'].round(2)\n",
        "\n",
        "index['cna_budget_2']=(df['cna_budget_2']/df['avg_cna_budget_2'])*100\n",
        "index['cna_budget_2']=index['cna_budget_2'].round(2)\n",
        "\n",
        "index['donation']=(df['donation']/df['avg_donation'])*100\n",
        "index['donation']=index['donation'].round(2)\n",
        "\n",
        "index"
      ],
      "metadata": {
        "colab": {
          "base_uri": "https://localhost:8080/",
          "height": 551
        },
        "id": "nnYNU-u8b_9Q",
        "outputId": "a9298eff-2bb9-4c25-a583-33cd13b50c5c"
      },
      "execution_count": 3,
      "outputs": [
        {
          "output_type": "execute_result",
          "data": {
            "text/plain": [
              "       구  cul_budget  cna_budget  cul_government  cna_budget_2  donation\n",
              "0    강서구       82.84       79.16           97.85         61.98     77.19\n",
              "1    금정구      344.92       75.79          317.03         14.25     46.75\n",
              "2    기장구      333.33      266.74          223.03         51.91    100.00\n",
              "3     남구       84.08      266.74           74.31        205.79    100.00\n",
              "4     동구       78.76       82.38          116.41        340.85    227.79\n",
              "5    동래구       34.24       43.34           36.92         82.11    188.47\n",
              "6   부산진구       52.75       96.80           32.67        119.04     41.55\n",
              "7     북구       85.90       45.64           71.90         34.46     74.20\n",
              "8    사상구       84.66       97.58           81.90         74.76    110.56\n",
              "9    사하구       41.86       70.84           33.54        109.78    100.00\n",
              "10    서구       76.10       54.94          104.05         46.83     10.39\n",
              "11   수영구       75.70      165.71           95.33        142.00     83.85\n",
              "12   연제구       36.16       93.68           29.23        168.05    100.00\n",
              "13   영도구       81.15       80.19           99.23         33.67      7.42\n",
              "14    중구       58.35       45.16          156.97         64.09    178.23\n",
              "15  해운대구       49.21       35.31           32.62         50.20    153.60"
            ],
            "text/html": [
              "\n",
              "  <div id=\"df-0b170180-e755-4e6c-a03c-72e292cf4ff6\">\n",
              "    <div class=\"colab-df-container\">\n",
              "      <div>\n",
              "<style scoped>\n",
              "    .dataframe tbody tr th:only-of-type {\n",
              "        vertical-align: middle;\n",
              "    }\n",
              "\n",
              "    .dataframe tbody tr th {\n",
              "        vertical-align: top;\n",
              "    }\n",
              "\n",
              "    .dataframe thead th {\n",
              "        text-align: right;\n",
              "    }\n",
              "</style>\n",
              "<table border=\"1\" class=\"dataframe\">\n",
              "  <thead>\n",
              "    <tr style=\"text-align: right;\">\n",
              "      <th></th>\n",
              "      <th>구</th>\n",
              "      <th>cul_budget</th>\n",
              "      <th>cna_budget</th>\n",
              "      <th>cul_government</th>\n",
              "      <th>cna_budget_2</th>\n",
              "      <th>donation</th>\n",
              "    </tr>\n",
              "  </thead>\n",
              "  <tbody>\n",
              "    <tr>\n",
              "      <th>0</th>\n",
              "      <td>강서구</td>\n",
              "      <td>82.84</td>\n",
              "      <td>79.16</td>\n",
              "      <td>97.85</td>\n",
              "      <td>61.98</td>\n",
              "      <td>77.19</td>\n",
              "    </tr>\n",
              "    <tr>\n",
              "      <th>1</th>\n",
              "      <td>금정구</td>\n",
              "      <td>344.92</td>\n",
              "      <td>75.79</td>\n",
              "      <td>317.03</td>\n",
              "      <td>14.25</td>\n",
              "      <td>46.75</td>\n",
              "    </tr>\n",
              "    <tr>\n",
              "      <th>2</th>\n",
              "      <td>기장구</td>\n",
              "      <td>333.33</td>\n",
              "      <td>266.74</td>\n",
              "      <td>223.03</td>\n",
              "      <td>51.91</td>\n",
              "      <td>100.00</td>\n",
              "    </tr>\n",
              "    <tr>\n",
              "      <th>3</th>\n",
              "      <td>남구</td>\n",
              "      <td>84.08</td>\n",
              "      <td>266.74</td>\n",
              "      <td>74.31</td>\n",
              "      <td>205.79</td>\n",
              "      <td>100.00</td>\n",
              "    </tr>\n",
              "    <tr>\n",
              "      <th>4</th>\n",
              "      <td>동구</td>\n",
              "      <td>78.76</td>\n",
              "      <td>82.38</td>\n",
              "      <td>116.41</td>\n",
              "      <td>340.85</td>\n",
              "      <td>227.79</td>\n",
              "    </tr>\n",
              "    <tr>\n",
              "      <th>5</th>\n",
              "      <td>동래구</td>\n",
              "      <td>34.24</td>\n",
              "      <td>43.34</td>\n",
              "      <td>36.92</td>\n",
              "      <td>82.11</td>\n",
              "      <td>188.47</td>\n",
              "    </tr>\n",
              "    <tr>\n",
              "      <th>6</th>\n",
              "      <td>부산진구</td>\n",
              "      <td>52.75</td>\n",
              "      <td>96.80</td>\n",
              "      <td>32.67</td>\n",
              "      <td>119.04</td>\n",
              "      <td>41.55</td>\n",
              "    </tr>\n",
              "    <tr>\n",
              "      <th>7</th>\n",
              "      <td>북구</td>\n",
              "      <td>85.90</td>\n",
              "      <td>45.64</td>\n",
              "      <td>71.90</td>\n",
              "      <td>34.46</td>\n",
              "      <td>74.20</td>\n",
              "    </tr>\n",
              "    <tr>\n",
              "      <th>8</th>\n",
              "      <td>사상구</td>\n",
              "      <td>84.66</td>\n",
              "      <td>97.58</td>\n",
              "      <td>81.90</td>\n",
              "      <td>74.76</td>\n",
              "      <td>110.56</td>\n",
              "    </tr>\n",
              "    <tr>\n",
              "      <th>9</th>\n",
              "      <td>사하구</td>\n",
              "      <td>41.86</td>\n",
              "      <td>70.84</td>\n",
              "      <td>33.54</td>\n",
              "      <td>109.78</td>\n",
              "      <td>100.00</td>\n",
              "    </tr>\n",
              "    <tr>\n",
              "      <th>10</th>\n",
              "      <td>서구</td>\n",
              "      <td>76.10</td>\n",
              "      <td>54.94</td>\n",
              "      <td>104.05</td>\n",
              "      <td>46.83</td>\n",
              "      <td>10.39</td>\n",
              "    </tr>\n",
              "    <tr>\n",
              "      <th>11</th>\n",
              "      <td>수영구</td>\n",
              "      <td>75.70</td>\n",
              "      <td>165.71</td>\n",
              "      <td>95.33</td>\n",
              "      <td>142.00</td>\n",
              "      <td>83.85</td>\n",
              "    </tr>\n",
              "    <tr>\n",
              "      <th>12</th>\n",
              "      <td>연제구</td>\n",
              "      <td>36.16</td>\n",
              "      <td>93.68</td>\n",
              "      <td>29.23</td>\n",
              "      <td>168.05</td>\n",
              "      <td>100.00</td>\n",
              "    </tr>\n",
              "    <tr>\n",
              "      <th>13</th>\n",
              "      <td>영도구</td>\n",
              "      <td>81.15</td>\n",
              "      <td>80.19</td>\n",
              "      <td>99.23</td>\n",
              "      <td>33.67</td>\n",
              "      <td>7.42</td>\n",
              "    </tr>\n",
              "    <tr>\n",
              "      <th>14</th>\n",
              "      <td>중구</td>\n",
              "      <td>58.35</td>\n",
              "      <td>45.16</td>\n",
              "      <td>156.97</td>\n",
              "      <td>64.09</td>\n",
              "      <td>178.23</td>\n",
              "    </tr>\n",
              "    <tr>\n",
              "      <th>15</th>\n",
              "      <td>해운대구</td>\n",
              "      <td>49.21</td>\n",
              "      <td>35.31</td>\n",
              "      <td>32.62</td>\n",
              "      <td>50.20</td>\n",
              "      <td>153.60</td>\n",
              "    </tr>\n",
              "  </tbody>\n",
              "</table>\n",
              "</div>\n",
              "      <button class=\"colab-df-convert\" onclick=\"convertToInteractive('df-0b170180-e755-4e6c-a03c-72e292cf4ff6')\"\n",
              "              title=\"Convert this dataframe to an interactive table.\"\n",
              "              style=\"display:none;\">\n",
              "        \n",
              "  <svg xmlns=\"http://www.w3.org/2000/svg\" height=\"24px\"viewBox=\"0 0 24 24\"\n",
              "       width=\"24px\">\n",
              "    <path d=\"M0 0h24v24H0V0z\" fill=\"none\"/>\n",
              "    <path d=\"M18.56 5.44l.94 2.06.94-2.06 2.06-.94-2.06-.94-.94-2.06-.94 2.06-2.06.94zm-11 1L8.5 8.5l.94-2.06 2.06-.94-2.06-.94L8.5 2.5l-.94 2.06-2.06.94zm10 10l.94 2.06.94-2.06 2.06-.94-2.06-.94-.94-2.06-.94 2.06-2.06.94z\"/><path d=\"M17.41 7.96l-1.37-1.37c-.4-.4-.92-.59-1.43-.59-.52 0-1.04.2-1.43.59L10.3 9.45l-7.72 7.72c-.78.78-.78 2.05 0 2.83L4 21.41c.39.39.9.59 1.41.59.51 0 1.02-.2 1.41-.59l7.78-7.78 2.81-2.81c.8-.78.8-2.07 0-2.86zM5.41 20L4 18.59l7.72-7.72 1.47 1.35L5.41 20z\"/>\n",
              "  </svg>\n",
              "      </button>\n",
              "      \n",
              "  <style>\n",
              "    .colab-df-container {\n",
              "      display:flex;\n",
              "      flex-wrap:wrap;\n",
              "      gap: 12px;\n",
              "    }\n",
              "\n",
              "    .colab-df-convert {\n",
              "      background-color: #E8F0FE;\n",
              "      border: none;\n",
              "      border-radius: 50%;\n",
              "      cursor: pointer;\n",
              "      display: none;\n",
              "      fill: #1967D2;\n",
              "      height: 32px;\n",
              "      padding: 0 0 0 0;\n",
              "      width: 32px;\n",
              "    }\n",
              "\n",
              "    .colab-df-convert:hover {\n",
              "      background-color: #E2EBFA;\n",
              "      box-shadow: 0px 1px 2px rgba(60, 64, 67, 0.3), 0px 1px 3px 1px rgba(60, 64, 67, 0.15);\n",
              "      fill: #174EA6;\n",
              "    }\n",
              "\n",
              "    [theme=dark] .colab-df-convert {\n",
              "      background-color: #3B4455;\n",
              "      fill: #D2E3FC;\n",
              "    }\n",
              "\n",
              "    [theme=dark] .colab-df-convert:hover {\n",
              "      background-color: #434B5C;\n",
              "      box-shadow: 0px 1px 3px 1px rgba(0, 0, 0, 0.15);\n",
              "      filter: drop-shadow(0px 1px 2px rgba(0, 0, 0, 0.3));\n",
              "      fill: #FFFFFF;\n",
              "    }\n",
              "  </style>\n",
              "\n",
              "      <script>\n",
              "        const buttonEl =\n",
              "          document.querySelector('#df-0b170180-e755-4e6c-a03c-72e292cf4ff6 button.colab-df-convert');\n",
              "        buttonEl.style.display =\n",
              "          google.colab.kernel.accessAllowed ? 'block' : 'none';\n",
              "\n",
              "        async function convertToInteractive(key) {\n",
              "          const element = document.querySelector('#df-0b170180-e755-4e6c-a03c-72e292cf4ff6');\n",
              "          const dataTable =\n",
              "            await google.colab.kernel.invokeFunction('convertToInteractive',\n",
              "                                                     [key], {});\n",
              "          if (!dataTable) return;\n",
              "\n",
              "          const docLinkHtml = 'Like what you see? Visit the ' +\n",
              "            '<a target=\"_blank\" href=https://colab.research.google.com/notebooks/data_table.ipynb>data table notebook</a>'\n",
              "            + ' to learn more about interactive tables.';\n",
              "          element.innerHTML = '';\n",
              "          dataTable['output_type'] = 'display_data';\n",
              "          await google.colab.output.renderOutput(dataTable, element);\n",
              "          const docLink = document.createElement('div');\n",
              "          docLink.innerHTML = docLinkHtml;\n",
              "          element.appendChild(docLink);\n",
              "        }\n",
              "      </script>\n",
              "    </div>\n",
              "  </div>\n",
              "  "
            ]
          },
          "metadata": {},
          "execution_count": 3
        }
      ]
    },
    {
      "cell_type": "code",
      "source": [
        "# 예산 지수\n",
        "index['budget_index'] = (index['cul_budget']+index['cna_budget']+index['cul_government']+index['cna_budget_2'])/4\n",
        "index['budget_index'] = index['budget_index'].round(2)\n",
        "\n",
        "# 기부 지수\n",
        "index['donation_index'] = index['donation']\n",
        "\n",
        "# 예술 재정 지수\n",
        "index['busan_arts_finance_index'] = (index['budget_index']+index['donation_index'])/2\n",
        "index['busan_arts_finance_index'] = index['busan_arts_finance_index'].round(2)\n",
        "\n",
        "index"
      ],
      "metadata": {
        "colab": {
          "base_uri": "https://localhost:8080/",
          "height": 551
        },
        "id": "eYcVEmuoUHhN",
        "outputId": "a747c240-1341-4701-b4a6-28654d12c355"
      },
      "execution_count": 4,
      "outputs": [
        {
          "output_type": "execute_result",
          "data": {
            "text/plain": [
              "       구  cul_budget  cna_budget  cul_government  cna_budget_2  donation  \\\n",
              "0    강서구       82.84       79.16           97.85         61.98     77.19   \n",
              "1    금정구      344.92       75.79          317.03         14.25     46.75   \n",
              "2    기장구      333.33      266.74          223.03         51.91    100.00   \n",
              "3     남구       84.08      266.74           74.31        205.79    100.00   \n",
              "4     동구       78.76       82.38          116.41        340.85    227.79   \n",
              "5    동래구       34.24       43.34           36.92         82.11    188.47   \n",
              "6   부산진구       52.75       96.80           32.67        119.04     41.55   \n",
              "7     북구       85.90       45.64           71.90         34.46     74.20   \n",
              "8    사상구       84.66       97.58           81.90         74.76    110.56   \n",
              "9    사하구       41.86       70.84           33.54        109.78    100.00   \n",
              "10    서구       76.10       54.94          104.05         46.83     10.39   \n",
              "11   수영구       75.70      165.71           95.33        142.00     83.85   \n",
              "12   연제구       36.16       93.68           29.23        168.05    100.00   \n",
              "13   영도구       81.15       80.19           99.23         33.67      7.42   \n",
              "14    중구       58.35       45.16          156.97         64.09    178.23   \n",
              "15  해운대구       49.21       35.31           32.62         50.20    153.60   \n",
              "\n",
              "    budget_index  donation_index  busan_arts_finance_index  \n",
              "0          80.46           77.19                     78.82  \n",
              "1         188.00           46.75                    117.38  \n",
              "2         218.75          100.00                    159.38  \n",
              "3         157.73          100.00                    128.86  \n",
              "4         154.60          227.79                    191.20  \n",
              "5          49.15          188.47                    118.81  \n",
              "6          75.32           41.55                     58.43  \n",
              "7          59.48           74.20                     66.84  \n",
              "8          84.72          110.56                     97.64  \n",
              "9          64.00          100.00                     82.00  \n",
              "10         70.48           10.39                     40.44  \n",
              "11        119.68           83.85                    101.76  \n",
              "12         81.78          100.00                     90.89  \n",
              "13         73.56            7.42                     40.49  \n",
              "14         81.14          178.23                    129.68  \n",
              "15         41.84          153.60                     97.72  "
            ],
            "text/html": [
              "\n",
              "  <div id=\"df-81e7d126-69df-450a-83da-c63ad3e91179\">\n",
              "    <div class=\"colab-df-container\">\n",
              "      <div>\n",
              "<style scoped>\n",
              "    .dataframe tbody tr th:only-of-type {\n",
              "        vertical-align: middle;\n",
              "    }\n",
              "\n",
              "    .dataframe tbody tr th {\n",
              "        vertical-align: top;\n",
              "    }\n",
              "\n",
              "    .dataframe thead th {\n",
              "        text-align: right;\n",
              "    }\n",
              "</style>\n",
              "<table border=\"1\" class=\"dataframe\">\n",
              "  <thead>\n",
              "    <tr style=\"text-align: right;\">\n",
              "      <th></th>\n",
              "      <th>구</th>\n",
              "      <th>cul_budget</th>\n",
              "      <th>cna_budget</th>\n",
              "      <th>cul_government</th>\n",
              "      <th>cna_budget_2</th>\n",
              "      <th>donation</th>\n",
              "      <th>budget_index</th>\n",
              "      <th>donation_index</th>\n",
              "      <th>busan_arts_finance_index</th>\n",
              "    </tr>\n",
              "  </thead>\n",
              "  <tbody>\n",
              "    <tr>\n",
              "      <th>0</th>\n",
              "      <td>강서구</td>\n",
              "      <td>82.84</td>\n",
              "      <td>79.16</td>\n",
              "      <td>97.85</td>\n",
              "      <td>61.98</td>\n",
              "      <td>77.19</td>\n",
              "      <td>80.46</td>\n",
              "      <td>77.19</td>\n",
              "      <td>78.82</td>\n",
              "    </tr>\n",
              "    <tr>\n",
              "      <th>1</th>\n",
              "      <td>금정구</td>\n",
              "      <td>344.92</td>\n",
              "      <td>75.79</td>\n",
              "      <td>317.03</td>\n",
              "      <td>14.25</td>\n",
              "      <td>46.75</td>\n",
              "      <td>188.00</td>\n",
              "      <td>46.75</td>\n",
              "      <td>117.38</td>\n",
              "    </tr>\n",
              "    <tr>\n",
              "      <th>2</th>\n",
              "      <td>기장구</td>\n",
              "      <td>333.33</td>\n",
              "      <td>266.74</td>\n",
              "      <td>223.03</td>\n",
              "      <td>51.91</td>\n",
              "      <td>100.00</td>\n",
              "      <td>218.75</td>\n",
              "      <td>100.00</td>\n",
              "      <td>159.38</td>\n",
              "    </tr>\n",
              "    <tr>\n",
              "      <th>3</th>\n",
              "      <td>남구</td>\n",
              "      <td>84.08</td>\n",
              "      <td>266.74</td>\n",
              "      <td>74.31</td>\n",
              "      <td>205.79</td>\n",
              "      <td>100.00</td>\n",
              "      <td>157.73</td>\n",
              "      <td>100.00</td>\n",
              "      <td>128.86</td>\n",
              "    </tr>\n",
              "    <tr>\n",
              "      <th>4</th>\n",
              "      <td>동구</td>\n",
              "      <td>78.76</td>\n",
              "      <td>82.38</td>\n",
              "      <td>116.41</td>\n",
              "      <td>340.85</td>\n",
              "      <td>227.79</td>\n",
              "      <td>154.60</td>\n",
              "      <td>227.79</td>\n",
              "      <td>191.20</td>\n",
              "    </tr>\n",
              "    <tr>\n",
              "      <th>5</th>\n",
              "      <td>동래구</td>\n",
              "      <td>34.24</td>\n",
              "      <td>43.34</td>\n",
              "      <td>36.92</td>\n",
              "      <td>82.11</td>\n",
              "      <td>188.47</td>\n",
              "      <td>49.15</td>\n",
              "      <td>188.47</td>\n",
              "      <td>118.81</td>\n",
              "    </tr>\n",
              "    <tr>\n",
              "      <th>6</th>\n",
              "      <td>부산진구</td>\n",
              "      <td>52.75</td>\n",
              "      <td>96.80</td>\n",
              "      <td>32.67</td>\n",
              "      <td>119.04</td>\n",
              "      <td>41.55</td>\n",
              "      <td>75.32</td>\n",
              "      <td>41.55</td>\n",
              "      <td>58.43</td>\n",
              "    </tr>\n",
              "    <tr>\n",
              "      <th>7</th>\n",
              "      <td>북구</td>\n",
              "      <td>85.90</td>\n",
              "      <td>45.64</td>\n",
              "      <td>71.90</td>\n",
              "      <td>34.46</td>\n",
              "      <td>74.20</td>\n",
              "      <td>59.48</td>\n",
              "      <td>74.20</td>\n",
              "      <td>66.84</td>\n",
              "    </tr>\n",
              "    <tr>\n",
              "      <th>8</th>\n",
              "      <td>사상구</td>\n",
              "      <td>84.66</td>\n",
              "      <td>97.58</td>\n",
              "      <td>81.90</td>\n",
              "      <td>74.76</td>\n",
              "      <td>110.56</td>\n",
              "      <td>84.72</td>\n",
              "      <td>110.56</td>\n",
              "      <td>97.64</td>\n",
              "    </tr>\n",
              "    <tr>\n",
              "      <th>9</th>\n",
              "      <td>사하구</td>\n",
              "      <td>41.86</td>\n",
              "      <td>70.84</td>\n",
              "      <td>33.54</td>\n",
              "      <td>109.78</td>\n",
              "      <td>100.00</td>\n",
              "      <td>64.00</td>\n",
              "      <td>100.00</td>\n",
              "      <td>82.00</td>\n",
              "    </tr>\n",
              "    <tr>\n",
              "      <th>10</th>\n",
              "      <td>서구</td>\n",
              "      <td>76.10</td>\n",
              "      <td>54.94</td>\n",
              "      <td>104.05</td>\n",
              "      <td>46.83</td>\n",
              "      <td>10.39</td>\n",
              "      <td>70.48</td>\n",
              "      <td>10.39</td>\n",
              "      <td>40.44</td>\n",
              "    </tr>\n",
              "    <tr>\n",
              "      <th>11</th>\n",
              "      <td>수영구</td>\n",
              "      <td>75.70</td>\n",
              "      <td>165.71</td>\n",
              "      <td>95.33</td>\n",
              "      <td>142.00</td>\n",
              "      <td>83.85</td>\n",
              "      <td>119.68</td>\n",
              "      <td>83.85</td>\n",
              "      <td>101.76</td>\n",
              "    </tr>\n",
              "    <tr>\n",
              "      <th>12</th>\n",
              "      <td>연제구</td>\n",
              "      <td>36.16</td>\n",
              "      <td>93.68</td>\n",
              "      <td>29.23</td>\n",
              "      <td>168.05</td>\n",
              "      <td>100.00</td>\n",
              "      <td>81.78</td>\n",
              "      <td>100.00</td>\n",
              "      <td>90.89</td>\n",
              "    </tr>\n",
              "    <tr>\n",
              "      <th>13</th>\n",
              "      <td>영도구</td>\n",
              "      <td>81.15</td>\n",
              "      <td>80.19</td>\n",
              "      <td>99.23</td>\n",
              "      <td>33.67</td>\n",
              "      <td>7.42</td>\n",
              "      <td>73.56</td>\n",
              "      <td>7.42</td>\n",
              "      <td>40.49</td>\n",
              "    </tr>\n",
              "    <tr>\n",
              "      <th>14</th>\n",
              "      <td>중구</td>\n",
              "      <td>58.35</td>\n",
              "      <td>45.16</td>\n",
              "      <td>156.97</td>\n",
              "      <td>64.09</td>\n",
              "      <td>178.23</td>\n",
              "      <td>81.14</td>\n",
              "      <td>178.23</td>\n",
              "      <td>129.68</td>\n",
              "    </tr>\n",
              "    <tr>\n",
              "      <th>15</th>\n",
              "      <td>해운대구</td>\n",
              "      <td>49.21</td>\n",
              "      <td>35.31</td>\n",
              "      <td>32.62</td>\n",
              "      <td>50.20</td>\n",
              "      <td>153.60</td>\n",
              "      <td>41.84</td>\n",
              "      <td>153.60</td>\n",
              "      <td>97.72</td>\n",
              "    </tr>\n",
              "  </tbody>\n",
              "</table>\n",
              "</div>\n",
              "      <button class=\"colab-df-convert\" onclick=\"convertToInteractive('df-81e7d126-69df-450a-83da-c63ad3e91179')\"\n",
              "              title=\"Convert this dataframe to an interactive table.\"\n",
              "              style=\"display:none;\">\n",
              "        \n",
              "  <svg xmlns=\"http://www.w3.org/2000/svg\" height=\"24px\"viewBox=\"0 0 24 24\"\n",
              "       width=\"24px\">\n",
              "    <path d=\"M0 0h24v24H0V0z\" fill=\"none\"/>\n",
              "    <path d=\"M18.56 5.44l.94 2.06.94-2.06 2.06-.94-2.06-.94-.94-2.06-.94 2.06-2.06.94zm-11 1L8.5 8.5l.94-2.06 2.06-.94-2.06-.94L8.5 2.5l-.94 2.06-2.06.94zm10 10l.94 2.06.94-2.06 2.06-.94-2.06-.94-.94-2.06-.94 2.06-2.06.94z\"/><path d=\"M17.41 7.96l-1.37-1.37c-.4-.4-.92-.59-1.43-.59-.52 0-1.04.2-1.43.59L10.3 9.45l-7.72 7.72c-.78.78-.78 2.05 0 2.83L4 21.41c.39.39.9.59 1.41.59.51 0 1.02-.2 1.41-.59l7.78-7.78 2.81-2.81c.8-.78.8-2.07 0-2.86zM5.41 20L4 18.59l7.72-7.72 1.47 1.35L5.41 20z\"/>\n",
              "  </svg>\n",
              "      </button>\n",
              "      \n",
              "  <style>\n",
              "    .colab-df-container {\n",
              "      display:flex;\n",
              "      flex-wrap:wrap;\n",
              "      gap: 12px;\n",
              "    }\n",
              "\n",
              "    .colab-df-convert {\n",
              "      background-color: #E8F0FE;\n",
              "      border: none;\n",
              "      border-radius: 50%;\n",
              "      cursor: pointer;\n",
              "      display: none;\n",
              "      fill: #1967D2;\n",
              "      height: 32px;\n",
              "      padding: 0 0 0 0;\n",
              "      width: 32px;\n",
              "    }\n",
              "\n",
              "    .colab-df-convert:hover {\n",
              "      background-color: #E2EBFA;\n",
              "      box-shadow: 0px 1px 2px rgba(60, 64, 67, 0.3), 0px 1px 3px 1px rgba(60, 64, 67, 0.15);\n",
              "      fill: #174EA6;\n",
              "    }\n",
              "\n",
              "    [theme=dark] .colab-df-convert {\n",
              "      background-color: #3B4455;\n",
              "      fill: #D2E3FC;\n",
              "    }\n",
              "\n",
              "    [theme=dark] .colab-df-convert:hover {\n",
              "      background-color: #434B5C;\n",
              "      box-shadow: 0px 1px 3px 1px rgba(0, 0, 0, 0.15);\n",
              "      filter: drop-shadow(0px 1px 2px rgba(0, 0, 0, 0.3));\n",
              "      fill: #FFFFFF;\n",
              "    }\n",
              "  </style>\n",
              "\n",
              "      <script>\n",
              "        const buttonEl =\n",
              "          document.querySelector('#df-81e7d126-69df-450a-83da-c63ad3e91179 button.colab-df-convert');\n",
              "        buttonEl.style.display =\n",
              "          google.colab.kernel.accessAllowed ? 'block' : 'none';\n",
              "\n",
              "        async function convertToInteractive(key) {\n",
              "          const element = document.querySelector('#df-81e7d126-69df-450a-83da-c63ad3e91179');\n",
              "          const dataTable =\n",
              "            await google.colab.kernel.invokeFunction('convertToInteractive',\n",
              "                                                     [key], {});\n",
              "          if (!dataTable) return;\n",
              "\n",
              "          const docLinkHtml = 'Like what you see? Visit the ' +\n",
              "            '<a target=\"_blank\" href=https://colab.research.google.com/notebooks/data_table.ipynb>data table notebook</a>'\n",
              "            + ' to learn more about interactive tables.';\n",
              "          element.innerHTML = '';\n",
              "          dataTable['output_type'] = 'display_data';\n",
              "          await google.colab.output.renderOutput(dataTable, element);\n",
              "          const docLink = document.createElement('div');\n",
              "          docLink.innerHTML = docLinkHtml;\n",
              "          element.appendChild(docLink);\n",
              "        }\n",
              "      </script>\n",
              "    </div>\n",
              "  </div>\n",
              "  "
            ]
          },
          "metadata": {},
          "execution_count": 4
        }
      ]
    },
    {
      "cell_type": "code",
      "source": [
        "index['cul_budget'].describe()"
      ],
      "metadata": {
        "colab": {
          "base_uri": "https://localhost:8080/"
        },
        "id": "OgtzeeMJO7bK",
        "outputId": "bdabd68b-8162-4beb-fda3-d28b6a6697c4"
      },
      "execution_count": 5,
      "outputs": [
        {
          "output_type": "execute_result",
          "data": {
            "text/plain": [
              "count     16.000000\n",
              "mean     100.000625\n",
              "std       95.116064\n",
              "min       34.240000\n",
              "25%       51.865000\n",
              "50%       77.430000\n",
              "75%       84.225000\n",
              "max      344.920000\n",
              "Name: cul_budget, dtype: float64"
            ]
          },
          "metadata": {},
          "execution_count": 5
        }
      ]
    },
    {
      "cell_type": "code",
      "source": [
        "# 폰트 설정\n",
        "plt.rcParams['font.family'] = 'NanumBarunGothic'\n",
        "\n",
        "index['cul_budget'].plot(kind='bar')\n",
        "plt.legend(['cul_budget'])\n",
        "\n",
        "# x축에 구별 이름 추가\n",
        "districts = ['강서구', '금정구', '기장군', '남구', '동구', '동래구', '부산진구', '북구', '사상구', '사하구', '서구', '수영구', '연제구', '영도구', '중구', '해운대구']\n",
        "plt.xticks(range(len(districts)), districts, rotation=45, ha='right')\n",
        "\n",
        "plt.show()"
      ],
      "metadata": {
        "colab": {
          "base_uri": "https://localhost:8080/",
          "height": 461
        },
        "id": "GiYayeGNO7d1",
        "outputId": "10857a3e-212b-447a-d0e9-c6f47ffc1c06"
      },
      "execution_count": 6,
      "outputs": [
        {
          "output_type": "display_data",
          "data": {
            "text/plain": [
              "<Figure size 640x480 with 1 Axes>"
            ],
            "image/png": "[encoded data removed]"
          },
          "metadata": {}
        }
      ]
    },
    {
      "cell_type": "code",
      "source": [
        "index['cna_budget'].describe()"
      ],
      "metadata": {
        "colab": {
          "base_uri": "https://localhost:8080/"
        },
        "id": "SQ3VgLWDO7gb",
        "outputId": "ab7fb42f-e205-4f76-a38e-646a34258553"
      },
      "execution_count": 7,
      "outputs": [
        {
          "output_type": "execute_result",
          "data": {
            "text/plain": [
              "count     16.00000\n",
              "mean     100.00000\n",
              "std       72.08325\n",
              "min       35.31000\n",
              "25%       52.61500\n",
              "50%       79.67500\n",
              "75%       96.99500\n",
              "max      266.74000\n",
              "Name: cna_budget, dtype: float64"
            ]
          },
          "metadata": {},
          "execution_count": 7
        }
      ]
    },
    {
      "cell_type": "code",
      "source": [
        "# 폰트 설정\n",
        "plt.rcParams['font.family'] = 'NanumBarunGothic'\n",
        "\n",
        "index['cna_budget'].plot(kind='bar')\n",
        "plt.legend(['cna_budget'])\n",
        "\n",
        "# x축에 구별 이름 추가\n",
        "districts = ['강서구', '금정구', '기장군', '남구', '동구', '동래구', '부산진구', '북구', '사상구', '사하구', '서구', '수영구', '연제구', '영도구', '중구', '해운대구']\n",
        "plt.xticks(range(len(districts)), districts, rotation=45, ha='right')\n",
        "\n",
        "plt.show()"
      ],
      "metadata": {
        "colab": {
          "base_uri": "https://localhost:8080/",
          "height": 461
        },
        "id": "GLIv6znjO7jB",
        "outputId": "da15525a-494d-4e11-c74a-fefa8f1c9f61"
      },
      "execution_count": 8,
      "outputs": [
        {
          "output_type": "display_data",
          "data": {
            "text/plain": [
              "<Figure size 640x480 with 1 Axes>"
            ],
            "image/png": "[encoded data removed]"
          },
          "metadata": {}
        }
      ]
    },
    {
      "cell_type": "code",
      "source": [
        "index['cul_government'].describe()"
      ],
      "metadata": {
        "colab": {
          "base_uri": "https://localhost:8080/"
        },
        "id": "qQWtCc8hO7lz",
        "outputId": "fbb90bfa-194a-4ed1-ae09-b53656ced0e8"
      },
      "execution_count": 9,
      "outputs": [
        {
          "output_type": "execute_result",
          "data": {
            "text/plain": [
              "count     16.000000\n",
              "mean     100.186875\n",
              "std       77.481671\n",
              "min       29.230000\n",
              "25%       36.075000\n",
              "50%       88.615000\n",
              "75%      107.140000\n",
              "max      317.030000\n",
              "Name: cul_government, dtype: float64"
            ]
          },
          "metadata": {},
          "execution_count": 9
        }
      ]
    },
    {
      "cell_type": "code",
      "source": [
        "# 폰트 설정\n",
        "plt.rcParams['font.family'] = 'NanumBarunGothic'\n",
        "\n",
        "index['cul_government'].plot(kind='bar')\n",
        "plt.legend(['cul_government'])\n",
        "\n",
        "# x축에 구별 이름 추가\n",
        "districts = ['강서구', '금정구', '기장군', '남구', '동구', '동래구', '부산진구', '북구', '사상구', '사하구', '서구', '수영구', '연제구', '영도구', '중구', '해운대구']\n",
        "plt.xticks(range(len(districts)), districts, rotation=45, ha='right')\n",
        "\n",
        "plt.show()"
      ],
      "metadata": {
        "colab": {
          "base_uri": "https://localhost:8080/",
          "height": 461
        },
        "id": "aXR_iHTOO7oa",
        "outputId": "9bf307fc-9a50-4f9b-c7a3-fd7737f422db"
      },
      "execution_count": 10,
      "outputs": [
        {
          "output_type": "display_data",
          "data": {
            "text/plain": [
              "<Figure size 640x480 with 1 Axes>"
            ],
            "image/png": "[encoded data removed]"
          },
          "metadata": {}
        }
      ]
    },
    {
      "cell_type": "code",
      "source": [
        "index['cna_budget_2'].describe()"
      ],
      "metadata": {
        "colab": {
          "base_uri": "https://localhost:8080/"
        },
        "id": "kEMjQLT2O7rB",
        "outputId": "39fd00d5-b646-4ad5-b046-6ff4984561c2"
      },
      "execution_count": 11,
      "outputs": [
        {
          "output_type": "execute_result",
          "data": {
            "text/plain": [
              "count     16.000000\n",
              "mean      99.985625\n",
              "std       83.031453\n",
              "min       14.250000\n",
              "25%       49.357500\n",
              "50%       69.425000\n",
              "75%      124.780000\n",
              "max      340.850000\n",
              "Name: cna_budget_2, dtype: float64"
            ]
          },
          "metadata": {},
          "execution_count": 11
        }
      ]
    },
    {
      "cell_type": "code",
      "source": [
        "# 폰트 설정\n",
        "plt.rcParams['font.family'] = 'NanumBarunGothic'\n",
        "\n",
        "index['cna_budget_2'].plot(kind='bar')\n",
        "plt.legend(['cna_budget_2'])\n",
        "\n",
        "# x축에 구별 이름 추가\n",
        "districts = ['강서구', '금정구', '기장군', '남구', '동구', '동래구', '부산진구', '북구', '사상구', '사하구', '서구', '수영구', '연제구', '영도구', '중구', '해운대구']\n",
        "plt.xticks(range(len(districts)), districts, rotation=45, ha='right')\n",
        "\n",
        "plt.show()"
      ],
      "metadata": {
        "colab": {
          "base_uri": "https://localhost:8080/",
          "height": 461
        },
        "id": "WDAiAZ8ZO7tY",
        "outputId": "ef48f349-a5b6-48e9-b7d2-4c214644855d"
      },
      "execution_count": 12,
      "outputs": [
        {
          "output_type": "display_data",
          "data": {
            "text/plain": [
              "<Figure size 640x480 with 1 Axes>"
            ],
            "image/png": "[encoded data removed]"
          },
          "metadata": {}
        }
      ]
    },
    {
      "cell_type": "code",
      "source": [
        "index['donation'].describe()"
      ],
      "metadata": {
        "colab": {
          "base_uri": "https://localhost:8080/"
        },
        "id": "isJTS64vO7wO",
        "outputId": "24f82435-d2c5-4783-b501-d5bc3c0fd00e"
      },
      "execution_count": 13,
      "outputs": [
        {
          "output_type": "execute_result",
          "data": {
            "text/plain": [
              "count     16.000000\n",
              "mean     100.000000\n",
              "std       61.946947\n",
              "min        7.420000\n",
              "25%       67.337500\n",
              "50%      100.000000\n",
              "75%      121.320000\n",
              "max      227.790000\n",
              "Name: donation, dtype: float64"
            ]
          },
          "metadata": {},
          "execution_count": 13
        }
      ]
    },
    {
      "cell_type": "code",
      "source": [
        "# 폰트 설정\n",
        "plt.rcParams['font.family'] = 'NanumBarunGothic'\n",
        "\n",
        "index['donation'].plot(kind='bar')\n",
        "plt.legend(['donation'])\n",
        "\n",
        "# x축에 구별 이름 추가\n",
        "districts = ['강서구', '금정구', '기장군', '남구', '동구', '동래구', '부산진구', '북구', '사상구', '사하구', '서구', '수영구', '연제구', '영도구', '중구', '해운대구']\n",
        "plt.xticks(range(len(districts)), districts, rotation=45, ha='right')\n",
        "\n",
        "plt.show()"
      ],
      "metadata": {
        "colab": {
          "base_uri": "https://localhost:8080/",
          "height": 461
        },
        "id": "kNIdHBIcO7yj",
        "outputId": "6494da47-dc38-455b-f8bf-d5b32927a4f9"
      },
      "execution_count": 14,
      "outputs": [
        {
          "output_type": "display_data",
          "data": {
            "text/plain": [
              "<Figure size 640x480 with 1 Axes>"
            ],
            "image/png": "[encoded data removed]"
          },
          "metadata": {}
        }
      ]
    },
    {
      "cell_type": "code",
      "source": [
        "index['budget_index'].describe()"
      ],
      "metadata": {
        "colab": {
          "base_uri": "https://localhost:8080/"
        },
        "id": "NOmYp2ezO8LT",
        "outputId": "678471da-461b-4dae-9d91-b517fed36bb4"
      },
      "execution_count": 15,
      "outputs": [
        {
          "output_type": "execute_result",
          "data": {
            "text/plain": [
              "count     16.000000\n",
              "mean     100.043125\n",
              "std       52.240145\n",
              "min       41.840000\n",
              "25%       68.860000\n",
              "50%       80.800000\n",
              "75%      128.410000\n",
              "max      218.750000\n",
              "Name: budget_index, dtype: float64"
            ]
          },
          "metadata": {},
          "execution_count": 15
        }
      ]
    },
    {
      "cell_type": "code",
      "source": [
        "# 폰트 설정\n",
        "plt.rcParams['font.family'] = 'NanumBarunGothic'\n",
        "\n",
        "index['budget_index'].plot(kind='bar')\n",
        "plt.legend(['budget_index'])\n",
        "\n",
        "# x축에 구별 이름 추가\n",
        "districts = ['강서구', '금정구', '기장군', '남구', '동구', '동래구', '부산진구', '북구', '사상구', '사하구', '서구', '수영구', '연제구', '영도구', '중구', '해운대구']\n",
        "plt.xticks(range(len(districts)), districts, rotation=45, ha='right')\n",
        "\n",
        "plt.show()"
      ],
      "metadata": {
        "colab": {
          "base_uri": "https://localhost:8080/",
          "height": 461
        },
        "id": "SXfdBocXO8Nq",
        "outputId": "53b0c7bb-7f42-4c97-f0c2-6ab7fed8113c"
      },
      "execution_count": 16,
      "outputs": [
        {
          "output_type": "display_data",
          "data": {
            "text/plain": [
              "<Figure size 640x480 with 1 Axes>"
            ],
            "image/png": "[encoded data removed]"
          },
          "metadata": {}
        }
      ]
    },
    {
      "cell_type": "code",
      "source": [
        "index['donation_index'].describe()"
      ],
      "metadata": {
        "colab": {
          "base_uri": "https://localhost:8080/"
        },
        "id": "GiEDLLINO8QO",
        "outputId": "5d978fb4-fa98-4d6a-8b28-d9ccd1e23b24"
      },
      "execution_count": 17,
      "outputs": [
        {
          "output_type": "execute_result",
          "data": {
            "text/plain": [
              "count     16.000000\n",
              "mean     100.000000\n",
              "std       61.946947\n",
              "min        7.420000\n",
              "25%       67.337500\n",
              "50%      100.000000\n",
              "75%      121.320000\n",
              "max      227.790000\n",
              "Name: donation_index, dtype: float64"
            ]
          },
          "metadata": {},
          "execution_count": 17
        }
      ]
    },
    {
      "cell_type": "code",
      "source": [
        "# 폰트 설정\n",
        "plt.rcParams['font.family'] = 'NanumBarunGothic'\n",
        "\n",
        "index['donation_index'].plot(kind='bar')\n",
        "plt.legend(['donation_index'])\n",
        "\n",
        "# x축에 구별 이름 추가\n",
        "districts = ['강서구', '금정구', '기장군', '남구', '동구', '동래구', '부산진구', '북구', '사상구', '사하구', '서구', '수영구', '연제구', '영도구', '중구', '해운대구']\n",
        "plt.xticks(range(len(districts)), districts, rotation=45, ha='right')\n",
        "\n",
        "plt.show()"
      ],
      "metadata": {
        "colab": {
          "base_uri": "https://localhost:8080/",
          "height": 461
        },
        "id": "XAcKhsi_O8Sf",
        "outputId": "9a891c76-10bd-4d70-98d8-34748b9e56bb"
      },
      "execution_count": 18,
      "outputs": [
        {
          "output_type": "display_data",
          "data": {
            "text/plain": [
              "<Figure size 640x480 with 1 Axes>"
            ],
            "image/png": "[encoded data removed]"
          },
          "metadata": {}
        }
      ]
    },
    {
      "cell_type": "code",
      "source": [
        "index['busan_arts_finance_index'].describe()"
      ],
      "metadata": {
        "colab": {
          "base_uri": "https://localhost:8080/"
        },
        "id": "UNut8AKAO8VG",
        "outputId": "3a38901c-1145-4a07-f3a1-db42cab5bb2b"
      },
      "execution_count": 19,
      "outputs": [
        {
          "output_type": "execute_result",
          "data": {
            "text/plain": [
              "count     16.00000\n",
              "mean     100.02125\n",
              "std       40.82404\n",
              "min       40.44000\n",
              "25%       75.82500\n",
              "50%       97.68000\n",
              "75%      121.32250\n",
              "max      191.20000\n",
              "Name: busan_arts_finance_index, dtype: float64"
            ]
          },
          "metadata": {},
          "execution_count": 19
        }
      ]
    },
    {
      "cell_type": "code",
      "source": [
        "# 폰트 설정\n",
        "plt.rcParams['font.family'] = 'NanumBarunGothic'\n",
        "\n",
        "index['busan_arts_finance_index'].plot(kind='bar')\n",
        "plt.legend(['busan_arts_finance_index'])\n",
        "\n",
        "# x축에 구별 이름 추가\n",
        "districts = ['강서구', '금정구', '기장군', '남구', '동구', '동래구', '부산진구', '북구', '사상구', '사하구', '서구', '수영구', '연제구', '영도구', '중구', '해운대구']\n",
        "plt.xticks(range(len(districts)), districts, rotation=45, ha='right')\n",
        "\n",
        "plt.show()"
      ],
      "metadata": {
        "colab": {
          "base_uri": "https://localhost:8080/",
          "height": 464
        },
        "id": "VWJ4qwr4PXez",
        "outputId": "65c7ae68-972e-4c9d-e373-bbb5cbee5e41"
      },
      "execution_count": 20,
      "outputs": [
        {
          "output_type": "display_data",
          "data": {
            "text/plain": [
              "<Figure size 640x480 with 1 Axes>"
            ],
            "image/png": "[encoded data removed]"
          },
          "metadata": {}
        }
      ]
    },
    {
      "cell_type": "code",
      "source": [
        "index.to_csv('busan_arts_finance_index.csv', encoding='utf-8-sig', index=False)"
      ],
      "metadata": {
        "id": "N4Vv1_z5YZPA"
      },
      "execution_count": 21,
      "outputs": []
    }
  ]
}