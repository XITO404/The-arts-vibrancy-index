{
 "cells": [
  {
   "cell_type": "code",
   "execution_count": 1,
   "id": "bf28cc7f",
   "metadata": {},
   "outputs": [],
   "source": [
    "import pandas as pd\n",
    "import numpy as np"
   ]
  },
  {
   "cell_type": "code",
   "execution_count": 2,
   "id": "14670703",
   "metadata": {},
   "outputs": [
    {
     "data": {
      "text/html": [
       "<div>\n",
       "<style scoped>\n",
       "    .dataframe tbody tr th:only-of-type {\n",
       "        vertical-align: middle;\n",
       "    }\n",
       "\n",
       "    .dataframe tbody tr th {\n",
       "        vertical-align: top;\n",
       "    }\n",
       "\n",
       "    .dataframe thead th {\n",
       "        text-align: right;\n",
       "    }\n",
       "</style>\n",
       "<table border=\"1\" class=\"dataframe\">\n",
       "  <thead>\n",
       "    <tr style=\"text-align: right;\">\n",
       "      <th></th>\n",
       "      <th>구</th>\n",
       "    </tr>\n",
       "  </thead>\n",
       "  <tbody>\n",
       "    <tr>\n",
       "      <th>0</th>\n",
       "      <td>강서구</td>\n",
       "    </tr>\n",
       "    <tr>\n",
       "      <th>1</th>\n",
       "      <td>금정구</td>\n",
       "    </tr>\n",
       "    <tr>\n",
       "      <th>2</th>\n",
       "      <td>기장군</td>\n",
       "    </tr>\n",
       "    <tr>\n",
       "      <th>3</th>\n",
       "      <td>남구</td>\n",
       "    </tr>\n",
       "    <tr>\n",
       "      <th>4</th>\n",
       "      <td>동구</td>\n",
       "    </tr>\n",
       "    <tr>\n",
       "      <th>5</th>\n",
       "      <td>동래구</td>\n",
       "    </tr>\n",
       "    <tr>\n",
       "      <th>6</th>\n",
       "      <td>부산진구</td>\n",
       "    </tr>\n",
       "    <tr>\n",
       "      <th>7</th>\n",
       "      <td>북구</td>\n",
       "    </tr>\n",
       "    <tr>\n",
       "      <th>8</th>\n",
       "      <td>사상구</td>\n",
       "    </tr>\n",
       "    <tr>\n",
       "      <th>9</th>\n",
       "      <td>사하구</td>\n",
       "    </tr>\n",
       "    <tr>\n",
       "      <th>10</th>\n",
       "      <td>서구</td>\n",
       "    </tr>\n",
       "    <tr>\n",
       "      <th>11</th>\n",
       "      <td>수영구</td>\n",
       "    </tr>\n",
       "    <tr>\n",
       "      <th>12</th>\n",
       "      <td>연제구</td>\n",
       "    </tr>\n",
       "    <tr>\n",
       "      <th>13</th>\n",
       "      <td>영도구</td>\n",
       "    </tr>\n",
       "    <tr>\n",
       "      <th>14</th>\n",
       "      <td>중구</td>\n",
       "    </tr>\n",
       "    <tr>\n",
       "      <th>15</th>\n",
       "      <td>해운대구</td>\n",
       "    </tr>\n",
       "  </tbody>\n",
       "</table>\n",
       "</div>"
      ],
      "text/plain": [
       "       구\n",
       "0    강서구\n",
       "1    금정구\n",
       "2    기장군\n",
       "3     남구\n",
       "4     동구\n",
       "5    동래구\n",
       "6   부산진구\n",
       "7     북구\n",
       "8    사상구\n",
       "9    사하구\n",
       "10    서구\n",
       "11   수영구\n",
       "12   연제구\n",
       "13   영도구\n",
       "14    중구\n",
       "15  해운대구"
      ]
     },
     "execution_count": 2,
     "metadata": {},
     "output_type": "execute_result"
    }
   ],
   "source": [
    "# 부산시 구별 데이터\n",
    "data = {\n",
    "    '구': ['강서구', '금정구', '기장군', '남구', '동구', '동래구', '부산진구', '북구', '사상구', '사하구', '서구', '수영구', '연제구', '영도구', '중구', '해운대구'],\n",
    "}\n",
    "# 데이터 프레임 생성\n",
    "Busan_Arts_Index = pd.DataFrame(data)\n",
    "Busan_Arts_Index"
   ]
  },
  {
   "cell_type": "code",
   "execution_count": 6,
   "id": "1ef1b0ea",
   "metadata": {},
   "outputs": [],
   "source": [
    "busan_arts_creation_production_index = pd.read_csv('busan_arts_creation_production_index.csv') \n",
    "busan_arts_finance_index = pd.read_csv('busan_arts_finance_index.csv') \n",
    "busan_arts_facilities_index = pd.read_csv('busan_arts_facilities_index.csv') \n",
    "busan_arts_enjoyment_index = pd.read_csv('busan_arts_enjoyment_index.csv') \n",
    "busan_arts_achievement_index = pd.read_csv('busan_arts_achievement_index.csv')"
   ]
  },
  {
   "cell_type": "markdown",
   "id": "eefb0a9c",
   "metadata": {},
   "source": [
    "## 예술창작/생산지수"
   ]
  },
  {
   "cell_type": "code",
   "execution_count": 9,
   "id": "a0402ae0",
   "metadata": {},
   "outputs": [
    {
     "data": {
      "text/plain": [
       "0     104.767267\n",
       "1     114.132883\n",
       "2     105.236486\n",
       "3      99.924925\n",
       "4      93.262012\n",
       "5     103.903904\n",
       "6     117.623874\n",
       "7      96.189940\n",
       "8      93.937688\n",
       "9      94.087838\n",
       "10     89.864865\n",
       "11     91.985736\n",
       "12     95.251502\n",
       "13     89.283033\n",
       "14     90.259009\n",
       "15    120.213964\n",
       "Name: ArtCreationProductionIndex, dtype: float64"
      ]
     },
     "execution_count": 9,
     "metadata": {},
     "output_type": "execute_result"
    }
   ],
   "source": [
    "busan_arts_creation_production_index['ArtCreationProductionIndex']"
   ]
  },
  {
   "cell_type": "markdown",
   "id": "315b1d44",
   "metadata": {},
   "source": [
    "## 예술재정지수"
   ]
  },
  {
   "cell_type": "code",
   "execution_count": 11,
   "id": "b172831a",
   "metadata": {},
   "outputs": [
    {
     "data": {
      "text/plain": [
       "0      78.826042\n",
       "1     117.371565\n",
       "2     159.375062\n",
       "3     128.863952\n",
       "4     191.197282\n",
       "5     118.814451\n",
       "6      58.432450\n",
       "7      66.838279\n",
       "8      97.640417\n",
       "9      82.002607\n",
       "10     40.434808\n",
       "11    101.764204\n",
       "12     90.889747\n",
       "13     40.489984\n",
       "14    129.685602\n",
       "15     97.717228\n",
       "Name: finanace_index, dtype: float64"
      ]
     },
     "execution_count": 11,
     "metadata": {},
     "output_type": "execute_result"
    }
   ],
   "source": [
    "busan_arts_finance_index['finanace_index']"
   ]
  },
  {
   "cell_type": "markdown",
   "id": "7e9f182a",
   "metadata": {},
   "source": [
    "## 예술시설지수"
   ]
  },
  {
   "cell_type": "code",
   "execution_count": 13,
   "id": "1a7e035f",
   "metadata": {},
   "outputs": [
    {
     "data": {
      "text/plain": [
       "0      38.600259\n",
       "1      68.564724\n",
       "2      70.300756\n",
       "3      57.711280\n",
       "4      84.453893\n",
       "5      42.314304\n",
       "6      52.894936\n",
       "7      40.410662\n",
       "8      44.560253\n",
       "9      40.498421\n",
       "10     50.663888\n",
       "11    118.916841\n",
       "12     47.267802\n",
       "13     74.677163\n",
       "14    267.408110\n",
       "15    118.833186\n",
       "Name: art_facilities_index, dtype: float64"
      ]
     },
     "execution_count": 13,
     "metadata": {},
     "output_type": "execute_result"
    }
   ],
   "source": [
    "busan_arts_facilities_index['art_facilities_index']"
   ]
  },
  {
   "cell_type": "markdown",
   "id": "a3b46713",
   "metadata": {},
   "source": [
    "## 예술향유지수"
   ]
  },
  {
   "cell_type": "code",
   "execution_count": 15,
   "id": "7f749c7f",
   "metadata": {},
   "outputs": [
    {
     "data": {
      "text/plain": [
       "0      86.16\n",
       "1      90.56\n",
       "2      93.14\n",
       "3      90.47\n",
       "4      83.15\n",
       "5     101.10\n",
       "6      93.98\n",
       "7      84.21\n",
       "8      88.98\n",
       "9      92.42\n",
       "10     84.64\n",
       "11     95.80\n",
       "12     98.07\n",
       "13     84.76\n",
       "14     86.58\n",
       "15    100.26\n",
       "Name: Busan_arts_enjoyment_index, dtype: float64"
      ]
     },
     "execution_count": 15,
     "metadata": {},
     "output_type": "execute_result"
    }
   ],
   "source": [
    "busan_arts_enjoyment_index['Busan_arts_enjoyment_index']"
   ]
  },
  {
   "cell_type": "markdown",
   "id": "f111246d",
   "metadata": {},
   "source": [
    "## 예술성과지수"
   ]
  },
  {
   "cell_type": "code",
   "execution_count": 17,
   "id": "074c1db0",
   "metadata": {},
   "outputs": [
    {
     "data": {
      "text/plain": [
       "0     113.215079\n",
       "1      98.710726\n",
       "2     134.556118\n",
       "3      98.216670\n",
       "4      95.014781\n",
       "5      99.282209\n",
       "6      99.062887\n",
       "7      85.487924\n",
       "8      86.806115\n",
       "9      89.343303\n",
       "10     97.211965\n",
       "11     90.456923\n",
       "12     94.161946\n",
       "13     94.741554\n",
       "14    121.242851\n",
       "15    102.488948\n",
       "Name: art_achievement_index, dtype: float64"
      ]
     },
     "execution_count": 17,
     "metadata": {},
     "output_type": "execute_result"
    }
   ],
   "source": [
    "busan_arts_achievement_index['art_achievement_index']"
   ]
  },
  {
   "cell_type": "markdown",
   "id": "ec3fcc21",
   "metadata": {},
   "source": [
    "## Arts Index"
   ]
  },
  {
   "cell_type": "code",
   "execution_count": 20,
   "id": "1af4a5fc",
   "metadata": {},
   "outputs": [
    {
     "data": {
      "text/html": [
       "<div>\n",
       "<style scoped>\n",
       "    .dataframe tbody tr th:only-of-type {\n",
       "        vertical-align: middle;\n",
       "    }\n",
       "\n",
       "    .dataframe tbody tr th {\n",
       "        vertical-align: top;\n",
       "    }\n",
       "\n",
       "    .dataframe thead th {\n",
       "        text-align: right;\n",
       "    }\n",
       "</style>\n",
       "<table border=\"1\" class=\"dataframe\">\n",
       "  <thead>\n",
       "    <tr style=\"text-align: right;\">\n",
       "      <th></th>\n",
       "      <th>구</th>\n",
       "      <th>Busan_Arts_Index</th>\n",
       "    </tr>\n",
       "  </thead>\n",
       "  <tbody>\n",
       "    <tr>\n",
       "      <th>0</th>\n",
       "      <td>강서구</td>\n",
       "      <td>61.670714</td>\n",
       "    </tr>\n",
       "    <tr>\n",
       "      <th>1</th>\n",
       "      <td>금정구</td>\n",
       "      <td>78.125834</td>\n",
       "    </tr>\n",
       "    <tr>\n",
       "      <th>2</th>\n",
       "      <td>기장군</td>\n",
       "      <td>85.610461</td>\n",
       "    </tr>\n",
       "    <tr>\n",
       "      <th>3</th>\n",
       "      <td>남구</td>\n",
       "      <td>75.394031</td>\n",
       "    </tr>\n",
       "    <tr>\n",
       "      <th>4</th>\n",
       "      <td>동구</td>\n",
       "      <td>90.412637</td>\n",
       "    </tr>\n",
       "    <tr>\n",
       "      <th>5</th>\n",
       "      <td>동래구</td>\n",
       "      <td>73.226532</td>\n",
       "    </tr>\n",
       "    <tr>\n",
       "      <th>6</th>\n",
       "      <td>부산진구</td>\n",
       "      <td>64.586252</td>\n",
       "    </tr>\n",
       "    <tr>\n",
       "      <th>7</th>\n",
       "      <td>북구</td>\n",
       "      <td>57.529776</td>\n",
       "    </tr>\n",
       "    <tr>\n",
       "      <th>8</th>\n",
       "      <td>사상구</td>\n",
       "      <td>65.023672</td>\n",
       "    </tr>\n",
       "    <tr>\n",
       "      <th>9</th>\n",
       "      <td>사하구</td>\n",
       "      <td>61.801773</td>\n",
       "    </tr>\n",
       "    <tr>\n",
       "      <th>10</th>\n",
       "      <td>서구</td>\n",
       "      <td>53.120712</td>\n",
       "    </tr>\n",
       "    <tr>\n",
       "      <th>11</th>\n",
       "      <td>수영구</td>\n",
       "      <td>81.693356</td>\n",
       "    </tr>\n",
       "    <tr>\n",
       "      <th>12</th>\n",
       "      <td>연제구</td>\n",
       "      <td>66.295810</td>\n",
       "    </tr>\n",
       "    <tr>\n",
       "      <th>13</th>\n",
       "      <td>영도구</td>\n",
       "      <td>57.842036</td>\n",
       "    </tr>\n",
       "    <tr>\n",
       "      <th>14</th>\n",
       "      <td>중구</td>\n",
       "      <td>114.786544</td>\n",
       "    </tr>\n",
       "    <tr>\n",
       "      <th>15</th>\n",
       "      <td>해운대구</td>\n",
       "      <td>87.404876</td>\n",
       "    </tr>\n",
       "  </tbody>\n",
       "</table>\n",
       "</div>"
      ],
      "text/plain": [
       "       구  Busan_Arts_Index\n",
       "0    강서구         61.670714\n",
       "1    금정구         78.125834\n",
       "2    기장군         85.610461\n",
       "3     남구         75.394031\n",
       "4     동구         90.412637\n",
       "5    동래구         73.226532\n",
       "6   부산진구         64.586252\n",
       "7     북구         57.529776\n",
       "8    사상구         65.023672\n",
       "9    사하구         61.801773\n",
       "10    서구         53.120712\n",
       "11   수영구         81.693356\n",
       "12   연제구         66.295810\n",
       "13   영도구         57.842036\n",
       "14    중구        114.786544\n",
       "15  해운대구         87.404876"
      ]
     },
     "execution_count": 20,
     "metadata": {},
     "output_type": "execute_result"
    }
   ],
   "source": [
    "Busan_Arts_Index['Busan_Arts_Index'] = busan_arts_creation_production_index['ArtCreationProductionIndex'] + busan_arts_finance_index['finanace_index'] + busan_arts_facilities_index['art_facilities_index'] +  busan_arts_enjoyment_index['Busan_arts_enjoyment_index']\n",
    "Busan_Arts_Index['Busan_Arts_Index'] = Busan_Arts_Index['Busan_Arts_Index'] / 5\n",
    "Busan_Arts_Index"
   ]
  }
 ],
 "metadata": {
  "kernelspec": {
   "display_name": "Python 3 (ipykernel)",
   "language": "python",
   "name": "python3"
  },
  "language_info": {
   "codemirror_mode": {
    "name": "ipython",
    "version": 3
   },
   "file_extension": ".py",
   "mimetype": "text/x-python",
   "name": "python",
   "nbconvert_exporter": "python",
   "pygments_lexer": "ipython3",
   "version": "3.11.4"
  }
 },
 "nbformat": 4,
 "nbformat_minor": 5
}
