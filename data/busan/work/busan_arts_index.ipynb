{
 "cells": [
  {
   "cell_type": "code",
   "execution_count": 1,
   "id": "bf28cc7f",
   "metadata": {},
   "outputs": [],
   "source": [
    "import pandas as pd\n",
    "import numpy as np"
   ]
  },
  {
   "cell_type": "code",
   "execution_count": 17,
   "id": "14670703",
   "metadata": {},
   "outputs": [
    {
     "data": {
      "text/html": [
       "<div>\n",
       "<style scoped>\n",
       "    .dataframe tbody tr th:only-of-type {\n",
       "        vertical-align: middle;\n",
       "    }\n",
       "\n",
       "    .dataframe tbody tr th {\n",
       "        vertical-align: top;\n",
       "    }\n",
       "\n",
       "    .dataframe thead th {\n",
       "        text-align: right;\n",
       "    }\n",
       "</style>\n",
       "<table border=\"1\" class=\"dataframe\">\n",
       "  <thead>\n",
       "    <tr style=\"text-align: right;\">\n",
       "      <th></th>\n",
       "      <th>구</th>\n",
       "    </tr>\n",
       "  </thead>\n",
       "  <tbody>\n",
       "    <tr>\n",
       "      <th>0</th>\n",
       "      <td>강서구</td>\n",
       "    </tr>\n",
       "    <tr>\n",
       "      <th>1</th>\n",
       "      <td>금정구</td>\n",
       "    </tr>\n",
       "    <tr>\n",
       "      <th>2</th>\n",
       "      <td>기장군</td>\n",
       "    </tr>\n",
       "    <tr>\n",
       "      <th>3</th>\n",
       "      <td>남구</td>\n",
       "    </tr>\n",
       "    <tr>\n",
       "      <th>4</th>\n",
       "      <td>동구</td>\n",
       "    </tr>\n",
       "    <tr>\n",
       "      <th>5</th>\n",
       "      <td>동래구</td>\n",
       "    </tr>\n",
       "    <tr>\n",
       "      <th>6</th>\n",
       "      <td>부산진구</td>\n",
       "    </tr>\n",
       "    <tr>\n",
       "      <th>7</th>\n",
       "      <td>북구</td>\n",
       "    </tr>\n",
       "    <tr>\n",
       "      <th>8</th>\n",
       "      <td>사상구</td>\n",
       "    </tr>\n",
       "    <tr>\n",
       "      <th>9</th>\n",
       "      <td>사하구</td>\n",
       "    </tr>\n",
       "    <tr>\n",
       "      <th>10</th>\n",
       "      <td>서구</td>\n",
       "    </tr>\n",
       "    <tr>\n",
       "      <th>11</th>\n",
       "      <td>수영구</td>\n",
       "    </tr>\n",
       "    <tr>\n",
       "      <th>12</th>\n",
       "      <td>연제구</td>\n",
       "    </tr>\n",
       "    <tr>\n",
       "      <th>13</th>\n",
       "      <td>영도구</td>\n",
       "    </tr>\n",
       "    <tr>\n",
       "      <th>14</th>\n",
       "      <td>중구</td>\n",
       "    </tr>\n",
       "    <tr>\n",
       "      <th>15</th>\n",
       "      <td>해운대구</td>\n",
       "    </tr>\n",
       "  </tbody>\n",
       "</table>\n",
       "</div>"
      ],
      "text/plain": [
       "       구\n",
       "0    강서구\n",
       "1    금정구\n",
       "2    기장군\n",
       "3     남구\n",
       "4     동구\n",
       "5    동래구\n",
       "6   부산진구\n",
       "7     북구\n",
       "8    사상구\n",
       "9    사하구\n",
       "10    서구\n",
       "11   수영구\n",
       "12   연제구\n",
       "13   영도구\n",
       "14    중구\n",
       "15  해운대구"
      ]
     },
     "execution_count": 17,
     "metadata": {},
     "output_type": "execute_result"
    }
   ],
   "source": [
    "# 부산시 구별 데이터\n",
    "data = {\n",
    "    '구': ['강서구', '금정구', '기장군', '남구', '동구', '동래구', '부산진구', '북구', '사상구', '사하구', '서구', '수영구', '연제구', '영도구', '중구', '해운대구'],\n",
    "}\n",
    "# 데이터 프레임 생성\n",
    "Busan_Arts_Index = pd.DataFrame(data)\n",
    "Busan_Arts_Index"
   ]
  },
  {
   "cell_type": "code",
   "execution_count": 18,
   "id": "1ef1b0ea",
   "metadata": {},
   "outputs": [],
   "source": [
    "busan_arts_creation_production_index = pd.read_csv('busan_arts_creation_production_index.csv') \n",
    "busan_arts_finance_index = pd.read_csv('busan_arts_finance_index.csv') \n",
    "busan_arts_facilities_index = pd.read_csv('busan_arts_facilities_index.csv') \n",
    "busan_arts_enjoyment_index = pd.read_csv('busan_arts_enjoyment_index.csv') \n",
    "busan_arts_achievement_index = pd.read_csv('busan_arts_achievement_index.csv')"
   ]
  },
  {
   "cell_type": "markdown",
   "id": "eefb0a9c",
   "metadata": {},
   "source": [
    "## 예술창작/생산지수"
   ]
  },
  {
   "cell_type": "code",
   "execution_count": 19,
   "id": "a0402ae0",
   "metadata": {},
   "outputs": [
    {
     "data": {
      "text/plain": [
       "0     104.77\n",
       "1     114.13\n",
       "2     105.24\n",
       "3      99.92\n",
       "4      93.26\n",
       "5     103.90\n",
       "6     117.62\n",
       "7      96.19\n",
       "8      93.94\n",
       "9      94.09\n",
       "10     89.86\n",
       "11     91.99\n",
       "12     95.25\n",
       "13     89.28\n",
       "14     90.26\n",
       "15    120.21\n",
       "Name: busan_arts_creation_production_index, dtype: float64"
      ]
     },
     "execution_count": 19,
     "metadata": {},
     "output_type": "execute_result"
    }
   ],
   "source": [
    "busan_arts_creation_production_index['busan_arts_creation_production_index'].round(2)"
   ]
  },
  {
   "cell_type": "markdown",
   "id": "315b1d44",
   "metadata": {},
   "source": [
    "## 예술재정지수"
   ]
  },
  {
   "cell_type": "code",
   "execution_count": 20,
   "id": "b172831a",
   "metadata": {},
   "outputs": [
    {
     "data": {
      "text/plain": [
       "0      78.83\n",
       "1     117.37\n",
       "2     159.38\n",
       "3     128.86\n",
       "4     191.20\n",
       "5     118.81\n",
       "6      58.43\n",
       "7      66.84\n",
       "8      97.64\n",
       "9      82.00\n",
       "10     40.43\n",
       "11    101.76\n",
       "12     90.89\n",
       "13     40.49\n",
       "14    129.69\n",
       "15     97.72\n",
       "Name: busan_arts_finance_index, dtype: float64"
      ]
     },
     "execution_count": 20,
     "metadata": {},
     "output_type": "execute_result"
    }
   ],
   "source": [
    "busan_arts_finance_index['busan_arts_finance_index'].round(2)"
   ]
  },
  {
   "cell_type": "markdown",
   "id": "7e9f182a",
   "metadata": {},
   "source": [
    "## 예술시설지수"
   ]
  },
  {
   "cell_type": "code",
   "execution_count": 21,
   "id": "1a7e035f",
   "metadata": {},
   "outputs": [
    {
     "data": {
      "text/plain": [
       "0      38.60\n",
       "1      68.56\n",
       "2      70.30\n",
       "3      57.71\n",
       "4      84.45\n",
       "5      42.31\n",
       "6      52.89\n",
       "7      40.41\n",
       "8      44.56\n",
       "9      40.50\n",
       "10     50.66\n",
       "11    118.92\n",
       "12     47.27\n",
       "13     74.68\n",
       "14    267.41\n",
       "15    118.83\n",
       "Name: busan_arts_facilities_index, dtype: float64"
      ]
     },
     "execution_count": 21,
     "metadata": {},
     "output_type": "execute_result"
    }
   ],
   "source": [
    "busan_arts_facilities_index['busan_arts_facilities_index'].round(2)"
   ]
  },
  {
   "cell_type": "markdown",
   "id": "a3b46713",
   "metadata": {},
   "source": [
    "## 예술향유지수"
   ]
  },
  {
   "cell_type": "code",
   "execution_count": 22,
   "id": "7f749c7f",
   "metadata": {},
   "outputs": [
    {
     "data": {
      "text/plain": [
       "0      86.16\n",
       "1      90.56\n",
       "2      93.14\n",
       "3      90.47\n",
       "4      83.15\n",
       "5     101.10\n",
       "6      93.98\n",
       "7      84.21\n",
       "8      88.98\n",
       "9      92.42\n",
       "10     84.64\n",
       "11     95.80\n",
       "12     98.07\n",
       "13     84.76\n",
       "14     86.58\n",
       "15    100.26\n",
       "Name: busan_arts_enjoyment_index, dtype: float64"
      ]
     },
     "execution_count": 22,
     "metadata": {},
     "output_type": "execute_result"
    }
   ],
   "source": [
    "busan_arts_enjoyment_index['busan_arts_enjoyment_index'].round(2)"
   ]
  },
  {
   "cell_type": "markdown",
   "id": "f111246d",
   "metadata": {},
   "source": [
    "## 예술성과지수"
   ]
  },
  {
   "cell_type": "code",
   "execution_count": 24,
   "id": "074c1db0",
   "metadata": {},
   "outputs": [
    {
     "data": {
      "text/plain": [
       "0     113.22\n",
       "1      98.71\n",
       "2     134.56\n",
       "3      98.22\n",
       "4      95.01\n",
       "5      99.28\n",
       "6      99.06\n",
       "7      85.49\n",
       "8      86.81\n",
       "9      89.34\n",
       "10     97.21\n",
       "11     90.46\n",
       "12     94.16\n",
       "13     94.74\n",
       "14    121.24\n",
       "15    102.49\n",
       "Name: busan_arts_achievement_index, dtype: float64"
      ]
     },
     "execution_count": 24,
     "metadata": {},
     "output_type": "execute_result"
    }
   ],
   "source": [
    "busan_arts_achievement_index['busan_arts_achievement_index'].round(2)"
   ]
  },
  {
   "cell_type": "markdown",
   "id": "ec3fcc21",
   "metadata": {},
   "source": [
    "## Arts Index"
   ]
  },
  {
   "cell_type": "code",
   "execution_count": 25,
   "id": "1af4a5fc",
   "metadata": {},
   "outputs": [
    {
     "data": {
      "text/html": [
       "<div>\n",
       "<style scoped>\n",
       "    .dataframe tbody tr th:only-of-type {\n",
       "        vertical-align: middle;\n",
       "    }\n",
       "\n",
       "    .dataframe tbody tr th {\n",
       "        vertical-align: top;\n",
       "    }\n",
       "\n",
       "    .dataframe thead th {\n",
       "        text-align: right;\n",
       "    }\n",
       "</style>\n",
       "<table border=\"1\" class=\"dataframe\">\n",
       "  <thead>\n",
       "    <tr style=\"text-align: right;\">\n",
       "      <th></th>\n",
       "      <th>구</th>\n",
       "      <th>busan_arts_index</th>\n",
       "    </tr>\n",
       "  </thead>\n",
       "  <tbody>\n",
       "    <tr>\n",
       "      <th>0</th>\n",
       "      <td>강서구</td>\n",
       "      <td>84.31</td>\n",
       "    </tr>\n",
       "    <tr>\n",
       "      <th>1</th>\n",
       "      <td>금정구</td>\n",
       "      <td>97.87</td>\n",
       "    </tr>\n",
       "    <tr>\n",
       "      <th>2</th>\n",
       "      <td>기장군</td>\n",
       "      <td>112.52</td>\n",
       "    </tr>\n",
       "    <tr>\n",
       "      <th>3</th>\n",
       "      <td>남구</td>\n",
       "      <td>95.04</td>\n",
       "    </tr>\n",
       "    <tr>\n",
       "      <th>4</th>\n",
       "      <td>동구</td>\n",
       "      <td>109.42</td>\n",
       "    </tr>\n",
       "    <tr>\n",
       "      <th>5</th>\n",
       "      <td>동래구</td>\n",
       "      <td>93.08</td>\n",
       "    </tr>\n",
       "    <tr>\n",
       "      <th>6</th>\n",
       "      <td>부산진구</td>\n",
       "      <td>84.40</td>\n",
       "    </tr>\n",
       "    <tr>\n",
       "      <th>7</th>\n",
       "      <td>북구</td>\n",
       "      <td>74.63</td>\n",
       "    </tr>\n",
       "    <tr>\n",
       "      <th>8</th>\n",
       "      <td>사상구</td>\n",
       "      <td>82.38</td>\n",
       "    </tr>\n",
       "    <tr>\n",
       "      <th>9</th>\n",
       "      <td>사하구</td>\n",
       "      <td>79.67</td>\n",
       "    </tr>\n",
       "    <tr>\n",
       "      <th>10</th>\n",
       "      <td>서구</td>\n",
       "      <td>72.56</td>\n",
       "    </tr>\n",
       "    <tr>\n",
       "      <th>11</th>\n",
       "      <td>수영구</td>\n",
       "      <td>99.78</td>\n",
       "    </tr>\n",
       "    <tr>\n",
       "      <th>12</th>\n",
       "      <td>연제구</td>\n",
       "      <td>85.13</td>\n",
       "    </tr>\n",
       "    <tr>\n",
       "      <th>13</th>\n",
       "      <td>영도구</td>\n",
       "      <td>76.79</td>\n",
       "    </tr>\n",
       "    <tr>\n",
       "      <th>14</th>\n",
       "      <td>중구</td>\n",
       "      <td>139.04</td>\n",
       "    </tr>\n",
       "    <tr>\n",
       "      <th>15</th>\n",
       "      <td>해운대구</td>\n",
       "      <td>107.90</td>\n",
       "    </tr>\n",
       "  </tbody>\n",
       "</table>\n",
       "</div>"
      ],
      "text/plain": [
       "       구  busan_arts_index\n",
       "0    강서구             84.31\n",
       "1    금정구             97.87\n",
       "2    기장군            112.52\n",
       "3     남구             95.04\n",
       "4     동구            109.42\n",
       "5    동래구             93.08\n",
       "6   부산진구             84.40\n",
       "7     북구             74.63\n",
       "8    사상구             82.38\n",
       "9    사하구             79.67\n",
       "10    서구             72.56\n",
       "11   수영구             99.78\n",
       "12   연제구             85.13\n",
       "13   영도구             76.79\n",
       "14    중구            139.04\n",
       "15  해운대구            107.90"
      ]
     },
     "execution_count": 25,
     "metadata": {},
     "output_type": "execute_result"
    }
   ],
   "source": [
    "Busan_Arts_Index['busan_arts_index'] = busan_arts_creation_production_index['busan_arts_creation_production_index'] + busan_arts_finance_index['busan_arts_finance_index'] + busan_arts_facilities_index['busan_arts_facilities_index'] +  busan_arts_enjoyment_index['busan_arts_enjoyment_index'] + busan_arts_achievement_index['busan_arts_achievement_index'] \n",
    "Busan_Arts_Index['busan_arts_index'] = (Busan_Arts_Index['busan_arts_index']/5).round(2)\n",
    "Busan_Arts_Index"
   ]
  }
 ],
 "metadata": {
  "kernelspec": {
   "display_name": "Python 3 (ipykernel)",
   "language": "python",
   "name": "python3"
  },
  "language_info": {
   "codemirror_mode": {
    "name": "ipython",
    "version": 3
   },
   "file_extension": ".py",
   "mimetype": "text/x-python",
   "name": "python",
   "nbconvert_exporter": "python",
   "pygments_lexer": "ipython3",
   "version": "3.11.4"
  }
 },
 "nbformat": 4,
 "nbformat_minor": 5
}
